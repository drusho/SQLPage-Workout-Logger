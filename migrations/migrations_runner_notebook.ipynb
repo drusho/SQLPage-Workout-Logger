{
 "cells": [
  {
   "cell_type": "markdown",
   "id": "0448e435",
   "metadata": {},
   "source": [
    "# Database Migration Runner\n",
    "\n",
    "**Filename:** `migrations/migration_runner_notebook.py`\n",
    "\n",
    "**Description:** This notebook provides a safe and reliable way to apply schema changes to the `workouts.db` database. \\\n",
    "It automates the process of backing up the database, applying new SQL migration scripts, and tracking which scripts have \\\n",
    " already been run to prevent accidental re-runs.\n",
    "\n",
    "### How to Use\n",
    "This notebook is the final step in the migration process. It is designed to run `.sql` files that you create in the \\\n",
    "`migrations` folder.\n",
    "\n",
    "### Your Workflow\n",
    "**1. Create a Migration File:**\n",
    "- First, create your migration logic in a new `.sql` file inside the `migrations/` directory.\n",
    "- Use the `000_migration_template.sql` as a starting point.\n",
    "- Name your file sequentially (e.g., `006_add_new_feature.sql`).\n",
    "\n",
    "**2. Run This Notebook**\n",
    "- Once your `.sql` file is ready, open this notebook (`migration_runner_notebook.ipynb`).\n",
    "- Run the cells sequentially from top to bottom.\n",
    "- The script will automatically find your new `.sql` file, back up the database, and execute the migration.\n",
    "\n",
    "### Key Features\n",
    "- **Automated Backups:** Creates a timestamped backup in the `../backups/` folder before any changes are made.\n",
    "- **Idempotent:** The script keeps track of applied migrations in a `_migrations table`, so it will never run the \\\n",
    "same script twice.\n",
    "- **Transactional:** Each migration is wrapped in a transaction. If any part of a script fails, the entire change is \\\n",
    "automatically rolled back, leaving your database in a clean state."
   ]
  },
  {
   "cell_type": "markdown",
   "id": "c8e182a7",
   "metadata": {},
   "source": [
    "## Run Code\n",
    "---"
   ]
  },
  {
   "cell_type": "markdown",
   "id": "e697223a",
   "metadata": {},
   "source": [
    "### Cell 1: Imports and Configuration\n",
    "\n",
    "This cell imports all necessary libraries and sets up the key configuration variables for the script."
   ]
  },
  {
   "cell_type": "code",
   "execution_count": 86,
   "id": "7184c1b8",
   "metadata": {},
   "outputs": [],
   "source": [
    "# cell 1: Imports and Configuration\n",
    "import sqlite3\n",
    "import os\n",
    "import shutil\n",
    "from datetime import datetime\n",
    "\n",
    "# --- Configuration ---\n",
    "# The path to your SQLite database file relative to the 'migrations' directory.\n",
    "DB_FILE = \"/Volumes/Public/Container_Settings/sqlpage/www/workouts.db\"\n",
    "\n",
    "# The directory where your .sql migration files are located.\n",
    "# MIGRATIONS_DIR = \"./\"  # Assumes the script/notebook is in the 'migrations' directory\n",
    "MIGRATIONS_DIR = \"/Volumes/Public/Container_Settings/sqlpage/migrations\"\n",
    "\n",
    "# The directory where backups will be stored.\n",
    "BACKUP_DIR = \"/Volumes/Public/Container_Settings/sqlpage/backups\""
   ]
  },
  {
   "cell_type": "markdown",
   "id": "74f05268",
   "metadata": {},
   "source": [
    "### Cell 2: Helper Functions\n",
    "\n",
    "This cell defines all the utility functions that the main migration process will use. This includes functions\\\n",
    "for backing up the database, connecting to it, and tracking which migrations have already been applied. "
   ]
  },
  {
   "cell_type": "code",
   "execution_count": 87,
   "id": "27b44b62",
   "metadata": {},
   "outputs": [],
   "source": [
    "# cell 2: Helper Functions\n",
    "def backup_database():\n",
    "    \"\"\"Creates a timestamped backup of the database file.\"\"\"\n",
    "    if not os.path.exists(BACKUP_DIR):\n",
    "        os.makedirs(BACKUP_DIR)\n",
    "    \n",
    "    timestamp = datetime.now().strftime(\"%Y-%m-%d_%H%M%S\")\n",
    "    backup_file_name = f\"workouts-backup-{timestamp}.db\"\n",
    "    backup_path = os.path.join(BACKUP_DIR, backup_file_name)\n",
    "    \n",
    "    try:\n",
    "        print(f\"Backing up database to {backup_path}...\")\n",
    "        shutil.copyfile(DB_FILE, backup_path)\n",
    "        print(\"Backup successful.\")\n",
    "        return True\n",
    "    except Exception as e:\n",
    "        print(f\"ERROR: Database backup failed: {e}\")\n",
    "        return False\n",
    "\n",
    "def get_db_connection():\n",
    "    \"\"\"Establishes a connection to the SQLite database.\"\"\"\n",
    "    return sqlite3.connect(DB_FILE)\n",
    "\n",
    "def get_applied_migrations(conn):\n",
    "    \"\"\"\n",
    "    Gets the list of migrations that have already been applied by checking\n",
    "    a special '_migrations' table. Creates the table if it doesn't exist.\n",
    "    \"\"\"\n",
    "    cursor = conn.cursor()\n",
    "    cursor.execute(\"\"\"\n",
    "        CREATE TABLE IF NOT EXISTS _migrations (\n",
    "            filename TEXT PRIMARY KEY,\n",
    "            applied_at TIMESTAMP DEFAULT CURRENT_TIMESTAMP\n",
    "        )\n",
    "    \"\"\")\n",
    "    cursor.execute(\"SELECT filename FROM _migrations\")\n",
    "    return {row[0] for row in cursor.fetchall()}\n",
    "\n",
    "def record_migration(conn, filename):\n",
    "    \"\"\"Records a migration as applied in the database.\"\"\"\n",
    "    cursor = conn.cursor()\n",
    "    cursor.execute(\"INSERT INTO _migrations (filename) VALUES (?)\", (filename,))\n",
    "    conn.commit()"
   ]
  },
  {
   "cell_type": "markdown",
   "id": "d613fdde",
   "metadata": {},
   "source": [
    "### Cell 3: Main Migration Logic\n",
    "This cell contains the main `run_migrations` function. It orchestrates the entire process:\\\n",
    "backing up the database, finding new migration files, executing them, and recording the results."
   ]
  },
  {
   "cell_type": "code",
   "execution_count": 88,
   "id": "e2a06181",
   "metadata": {},
   "outputs": [],
   "source": [
    "# cell 3: Migration Execution Logic\n",
    "def run_migrations():\n",
    "    \"\"\"\n",
    "    Finds and applies all pending .sql migration scripts in the directory.\n",
    "    \"\"\"\n",
    "    print(\"Starting migration process...\")\n",
    "\n",
    "    # Step 1: Backup the database first as a safety measure\n",
    "    if not backup_database():\n",
    "        return # Stop if backup fails\n",
    "\n",
    "    conn = get_db_connection()\n",
    "    applied_migrations = get_applied_migrations(conn)\n",
    "    \n",
    "    # Step 2: Find all .sql files in the directory\n",
    "    migration_files = sorted([\n",
    "        f for f in os.listdir(MIGRATIONS_DIR)\n",
    "        if f.endswith('.sql') and f != '000_migration_template.sql'        \n",
    "    ])\n",
    "\n",
    "    found_new_migration = False\n",
    "    for filename in migration_files:\n",
    "        if filename not in applied_migrations:\n",
    "            found_new_migration = True\n",
    "            print(f\"\\nApplying migration: {filename}...\")\n",
    "            try:\n",
    "                with open(os.path.join(MIGRATIONS_DIR, filename), 'r') as f:\n",
    "                    sql_script = f.read()\n",
    "                \n",
    "                # Step 3: Execute the entire SQL script within a transaction\n",
    "                conn.executescript(sql_script)\n",
    "                \n",
    "                # Step 4: Record the migration as successful\n",
    "                record_migration(conn, filename)\n",
    "                print(f\"Successfully applied {filename}.\")\n",
    "                \n",
    "            except Exception as e:\n",
    "                print(f\"!!!!!!!! ERROR applying {filename} !!!!!!!!\")\n",
    "                print(f\"Error details: {e}\")\n",
    "                print(\"Migration process halted. The database has been rolled back.\")\n",
    "                conn.rollback() # Rollback any partial changes from the failed script\n",
    "                conn.close()\n",
    "                return\n",
    "\n",
    "    if not found_new_migration:\n",
    "        print(\"\\nDatabase is already up to date. No new migrations found.\")\n",
    "\n",
    "    conn.close()\n",
    "    print(\"\\nMigration process finished.\")"
   ]
  },
  {
   "cell_type": "markdown",
   "id": "add94ffd",
   "metadata": {},
   "source": [
    "### Cell 4: Execute the Migration\n",
    "\n",
    "This is the final cell. Running this cell will trigger the entire migration process by calling the\\\n",
    "`run_migrations` function."
   ]
  },
  {
   "cell_type": "code",
   "execution_count": 89,
   "id": "39c3f6f0",
   "metadata": {},
   "outputs": [
    {
     "name": "stdout",
     "output_type": "stream",
     "text": [
      "Starting migration process...\n",
      "Backing up database to /Volumes/Public/Container_Settings/sqlpage/backups/workouts-backup-2025-07-03_133729.db...\n",
      "Backup successful.\n",
      "\n",
      "Applying migration: 013_create_default_admin_user.sql...\n",
      "!!!!!!!! ERROR applying 013_create_default_admin_user.sql !!!!!!!!\n",
      "Error details: near \"(\": syntax error\n",
      "Migration process halted. The database has been rolled back.\n"
     ]
    }
   ],
   "source": [
    "# cell 4: Run the Migration Process\n",
    "run_migrations()"
   ]
  }
 ],
 "metadata": {
  "kernelspec": {
   "display_name": ".venv",
   "language": "python",
   "name": "python3"
  },
  "language_info": {
   "codemirror_mode": {
    "name": "ipython",
    "version": 3
   },
   "file_extension": ".py",
   "mimetype": "text/x-python",
   "name": "python",
   "nbconvert_exporter": "python",
   "pygments_lexer": "ipython3",
   "version": "3.13.5"
  }
 },
 "nbformat": 4,
 "nbformat_minor": 5
}
